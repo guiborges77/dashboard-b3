{
 "cells": [
  {
   "cell_type": "code",
   "execution_count": 12,
   "id": "984a8103",
   "metadata": {},
   "outputs": [
    {
     "name": "stdout",
     "output_type": "stream",
     "text": [
      "Diretório de trabalho: D:\\Documentos\\PROJETOS\\Análise de Risco e Liquidez — B3 (Listado)\n"
     ]
    },
    {
     "name": "stderr",
     "output_type": "stream",
     "text": [
      "C:\\Users\\Guilherme\\AppData\\Local\\Temp\\ipykernel_18268\\3883850337.py:54: UserWarning: Could not infer format, so each element will be parsed individually, falling back to `dateutil`. To ensure parsing is consistent and as-expected, please specify a format.\n",
      "  df_merged[col] = pd.to_datetime(df_merged[col], errors='coerce', dayfirst=False)\n",
      "C:\\Users\\Guilherme\\AppData\\Local\\Temp\\ipykernel_18268\\3883850337.py:54: UserWarning: Could not infer format, so each element will be parsed individually, falling back to `dateutil`. To ensure parsing is consistent and as-expected, please specify a format.\n",
      "  df_merged[col] = pd.to_datetime(df_merged[col], errors='coerce', dayfirst=False)\n"
     ]
    },
    {
     "name": "stdout",
     "output_type": "stream",
     "text": [
      "Merge finalizado. Shape: (95660, 66)\n",
      "     RptDt_x TckrSymb        ISIN_x SgmtNm_x  MinPric  MaxPric  TradAvrgPric  \\\n",
      "0 2025-08-22   A1AP34  BRA1APBDR001     CASH    19.50    19.66         19.60   \n",
      "1 2025-08-22   A1DI34  BRA1DIBDR000     CASH   684.24   684.24        684.24   \n",
      "2 2025-08-22   A1DM34  BRA1DMBDR002     CASH   338.25   340.30        338.64   \n",
      "3 2025-08-22   A1EG34  BRA1EGBDR002     CASH    43.16    43.44         43.35   \n",
      "4 2025-08-22   A1ES34  BRA1ESBDR007     CASH    72.52    73.08         72.70   \n",
      "\n",
      "   LastPric  OscnPctg  AdjstdQt  ...  DaysToSttlm  SrsTpNm  PrtcnFlg  \\\n",
      "0     19.56      2.19       NaN  ...          2.0      NaN       NaN   \n",
      "1    684.24      8.11       NaN  ...          2.0      NaN       NaN   \n",
      "2    340.30      1.49       NaN  ...          2.0      NaN       NaN   \n",
      "3     43.16      5.86       NaN  ...          2.0      NaN       NaN   \n",
      "4     73.08      1.93       NaN  ...          2.0      NaN       NaN   \n",
      "\n",
      "   AutomtcExrcInd  SpcfctnCd                     CrpnNm CorpActnStartDt  \\\n",
      "0             NaN        DRN     ADVANCE AUTO PARTS INC             NaT   \n",
      "1             NaN        DRN         ANALOG DEVICES INC             NaT   \n",
      "2             NaN     DRN ED  ARCHER-DANIELS-MIDLAND CO             NaT   \n",
      "3             NaN        DRN                 AEGON LTD.             NaT   \n",
      "4             NaN        DRN                   AES CORP             NaT   \n",
      "\n",
      "  CtdyTrtmntTpNm    MktCptlstn CorpGovnLvlNm  \n",
      "0       FUNGIBLE  9.573302e+08           NaN  \n",
      "1       FUNGIBLE  7.391196e+08           NaN  \n",
      "2       FUNGIBLE  5.017635e+08           NaN  \n",
      "3       FUNGIBLE  2.112748e+09           NaN  \n",
      "4       FUNGIBLE  6.673951e+08           NaN  \n",
      "\n",
      "[5 rows x 66 columns]\n"
     ]
    }
   ],
   "source": [
    "import os\n",
    "import pandas as pd\n",
    "\n",
    "# ------------------------\n",
    "# 0. Definir diretório de trabalho\n",
    "# ------------------------\n",
    "os.chdir(r\"D:\\Documentos\\PROJETOS\\Análise de Risco e Liquidez — B3 (Listado)\")\n",
    "print(\"Diretório de trabalho:\", os.getcwd())\n",
    "\n",
    "# ------------------------\n",
    "# 1. Arquivos\n",
    "# ------------------------\n",
    "RAW_DIR = \"data/raw\"\n",
    "PROCESSED_DIR = \"data/processed\"\n",
    "\n",
    "instruments_file = os.path.join(RAW_DIR, \"InstrumentsConsolidatedFile_20250822_1.csv\")\n",
    "trades_file = os.path.join(RAW_DIR, \"TradeInformationConsolidatedFile_20250822_1.csv\")\n",
    "\n",
    "# ------------------------\n",
    "# 2. Ler CSVs como string\n",
    "# ------------------------\n",
    "df_instruments = pd.read_csv(instruments_file, sep=';', encoding='latin1', skiprows=1, dtype=str)\n",
    "df_trades = pd.read_csv(trades_file, sep=';', encoding='latin1', skiprows=1, dtype=str)\n",
    "\n",
    "# ------------------------\n",
    "# 3. Limpar nomes de colunas\n",
    "# ------------------------\n",
    "df_instruments.columns = df_instruments.columns.str.strip()\n",
    "df_trades.columns = df_trades.columns.str.strip()\n",
    "\n",
    "# ------------------------\n",
    "# 4. Limpar duplicatas\n",
    "# ------------------------\n",
    "df_instruments.drop_duplicates(inplace=True)\n",
    "df_trades.drop_duplicates(inplace=True)\n",
    "\n",
    "# ------------------------\n",
    "# 5. Merge dos dados\n",
    "# ------------------------\n",
    "df_merged = df_trades.merge(\n",
    "    df_instruments,\n",
    "    how='left',\n",
    "    on='TckrSymb'\n",
    ")\n",
    "\n",
    "# ------------------------\n",
    "# 6. Converter datas\n",
    "# ------------------------\n",
    "date_cols = ['RptDt_x', 'RptDt_y', 'XprtnDt', 'TradgStartDt', 'TradgEndDt', \n",
    "             'DlvryNtceStartDt', 'DlvryNtceEndDt', 'MtrtyDtTrgtPt', 'OpngPosLmtDt', 'CorpActnStartDt']\n",
    "\n",
    "for col in date_cols:\n",
    "    if col in df_merged.columns:\n",
    "        df_merged[col] = pd.to_datetime(df_merged[col], errors='coerce', dayfirst=False)\n",
    "\n",
    "# ------------------------\n",
    "# 7. Converter valores numéricos\n",
    "# ------------------------\n",
    "numeric_cols = ['MinPric', 'MaxPric', 'TradAvrgPric', 'LastPric', 'OscnPctg',\n",
    "                'AdjstdQt', 'AdjstdQtTax', 'RefPric', 'TradQty', 'FinInstrmQty',\n",
    "                'NtlFinVol', 'AsstQtnQty', 'ExrcPric', 'DaysToSttlm', 'MktCptlstn']\n",
    "\n",
    "for col in numeric_cols:\n",
    "    if col in df_merged.columns:\n",
    "        df_merged[col] = df_merged[col].str.replace(',', '.', regex=False).astype(float)\n",
    "\n",
    "print(\"Merge finalizado. Shape:\", df_merged.shape)\n",
    "print(df_merged.head())\n"
   ]
  }
 ],
 "metadata": {
  "kernelspec": {
   "display_name": ".venv (3.12.4)",
   "language": "python",
   "name": "python3"
  },
  "language_info": {
   "codemirror_mode": {
    "name": "ipython",
    "version": 3
   },
   "file_extension": ".py",
   "mimetype": "text/x-python",
   "name": "python",
   "nbconvert_exporter": "python",
   "pygments_lexer": "ipython3",
   "version": "3.12.4"
  }
 },
 "nbformat": 4,
 "nbformat_minor": 5
}
